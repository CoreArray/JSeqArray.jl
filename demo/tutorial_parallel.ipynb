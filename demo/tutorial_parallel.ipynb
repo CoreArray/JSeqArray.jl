{
 "cells": [
  {
   "cell_type": "markdown",
   "metadata": {},
   "source": [
    "# Julia tutorial with parallel programming"
   ]
  },
  {
   "cell_type": "code",
   "execution_count": 1,
   "metadata": {
    "collapsed": true
   },
   "outputs": [],
   "source": [
    "# load the JSeqArray package\n",
    "using JSeqArray"
   ]
  },
  {
   "cell_type": "markdown",
   "metadata": {},
   "source": [
    "Open an existing SeqArray file and display its structure. The dimensions of sample.id and variant.id tell you the total numbers of samples and variants, i.e., 1092 samples and 19,773 variants."
   ]
  },
  {
   "cell_type": "code",
   "execution_count": 2,
   "metadata": {
    "collapsed": false
   },
   "outputs": [
    {
     "data": {
      "text/plain": [
       "\u001b[1mSeqArray \u001b[0m\u001b[1mFile:\u001b[0m\u001b[1m\u001b[30m /home/juser/.julia/v0.5/JSeqArray/demo/data/1KG_phase1_release_v3_chr22.gds\u001b[0m\u001b[1m\u001b[37m (0B)\u001b[0m\n",
       "\u001b[1m\u001b[0m+    [  ] *\n",
       "|--+ description   [  ] *\n",
       "|--+ sample.id   { Str8 1092 LZMA_ra(10.5%), 914B } *\n",
       "|--+ variant.id   { Int32 19773 LZMA_ra(8.39%), 6.6K } *\n",
       "|--+ position   { Int32 19773 LZMA_ra(52.0%), 41.1K } *\n",
       "|--+ chromosome   { Str8 19773 LZMA_ra(0.28%), 166B } *\n",
       "|--+ allele   { Str8 19773 LZMA_ra(22.7%), 111.9K } *\n",
       "|--+ genotype   [  ] *\n",
       "|  |--+ data   { Bit2 2x1092x19773 LZMA_ra(8.17%), 882.5K } *\n",
       "|  |--+ extra.index   { Int32 3x0 LZMA_ra, 19B } *\n",
       "|  \\--+ extra   { Int16 0 LZMA_ra, 19B }\n",
       "|--+ phase   [  ]\n",
       "|  |--+ data   { Bit1 1092x19773 LZMA_ra(0.02%), 550B } *\n",
       "|  |--+ extra.index   { Int32 3x0 LZMA_ra, 19B } *\n",
       "|  \\--+ extra   { Bit1 0 LZMA_ra, 19B }\n",
       "|--+ annotation   [  ]\n",
       "|  |--+ id   { Str8 19773 LZMA_ra(35.2%), 77.0K } *\n",
       "|  |--+ qual   { Float32 19773 LZMA_ra(3.62%), 2.9K } *\n",
       "|  |--+ filter   { Int32,factor 19773 LZMA_ra(0.21%), 170B } *\n",
       "|  |--+ info   [  ]\n",
       "|  \\--+ format   [  ]\n",
       "\\--+ sample.annotation   [  ]\n",
       "   |--+ Family.ID   { Str8 1092 LZMA_ra(15.3%), 1.1K }\n",
       "   |--+ Population   { Str8 1092 LZMA_ra(5.08%), 222B }\n",
       "   |--+ Gender   { Str8 1092 LZMA_ra(5.85%), 386B }\n",
       "   \\--+ Ancestry   { Str8 1092 LZMA_ra(2.43%), 233B }\n"
      ]
     },
     "execution_count": 2,
     "metadata": {},
     "output_type": "execute_result"
    }
   ],
   "source": [
    "# get the file name of example data\n",
    "fn = seqExample(:kg)\n",
    "f = seqOpen(fn)"
   ]
  },
  {
   "cell_type": "markdown",
   "metadata": {},
   "source": [
    "Genotypic data and annotations are stored in an array-oriented manner, providing efficient data access using the Julia programming language. `seqFilterSet()` and `seqGetData()` can be used together to retrieve data for a selected set of samples from a defined genomic region. `seqApply()` applies a user-defined function to array margins of genotypes and annotations."
   ]
  },
  {
   "cell_type": "code",
   "execution_count": 3,
   "metadata": {
    "collapsed": false
   },
   "outputs": [
    {
     "data": {
      "text/plain": [
       "4-element Array{Int64,1}:\n",
       " 2\n",
       " 3\n",
       " 4\n",
       " 5"
      ]
     },
     "execution_count": 3,
     "metadata": {},
     "output_type": "execute_result"
    }
   ],
   "source": [
    "# launches the built-in ClusterManager with 4 worker processes and return worker IDs\n",
    "addprocs(4)"
   ]
  },
  {
   "cell_type": "markdown",
   "metadata": {},
   "source": [
    "## Calculation of Allele Frequencies"
   ]
  },
  {
   "cell_type": "code",
   "execution_count": 4,
   "metadata": {
    "collapsed": false
   },
   "outputs": [
    {
     "name": "stdout",
     "output_type": "stream",
     "text": [
      "# of selected samples: 1,092\n",
      "# of selected variants: 19,773\n"
     ]
    }
   ],
   "source": [
    "seqFilterReset(f)  # reset the filter"
   ]
  },
  {
   "cell_type": "markdown",
   "metadata": {},
   "source": [
    "### Using 1 core"
   ]
  },
  {
   "cell_type": "code",
   "execution_count": 5,
   "metadata": {
    "collapsed": false
   },
   "outputs": [
    {
     "name": "stdout",
     "output_type": "stream",
     "text": [
      "\r",
      "[..................................................]  0%, ETC: ---    \r",
      "[==================================================] 100%, completed in 0s\n"
     ]
    },
    {
     "data": {
      "text/plain": [
       "19773-element Array{Float64,1}:\n",
       " 0.695055   \n",
       " 0.943223   \n",
       " 0.999542   \n",
       " 0.999542   \n",
       " 0.938645   \n",
       " 0.999084   \n",
       " 0.000457875\n",
       " 0.988095   \n",
       " 0.969322   \n",
       " 0.989011   \n",
       " 0.990385   \n",
       " 0.947802   \n",
       " 0.998168   \n",
       " ⋮          \n",
       " 0.91163    \n",
       " 0.999084   \n",
       " 0.999542   \n",
       " 0.992216   \n",
       " 0.981685   \n",
       " 0.981685   \n",
       " 0.952839   \n",
       " 0.994048   \n",
       " 0.999542   \n",
       " 0.996795   \n",
       " 0.658425   \n",
       " 0.913462   "
      ]
     },
     "execution_count": 5,
     "metadata": {},
     "output_type": "execute_result"
    }
   ],
   "source": [
    "af = seqApply(f, \"genotype\", asis=:unlist) do geno::Array{UInt8,3}\n",
    "    N = size(geno, 3)\n",
    "    rv = Vector{Float64}(N)\n",
    "    for k in 1:N\n",
    "        sum = 0; n = 0\n",
    "        for g in geno[:,:,k]\n",
    "            if g != 0xFF\n",
    "                sum += g == 0  # 0 is the reference allele\n",
    "                n += 1\n",
    "            end\n",
    "        end\n",
    "        rv[k] = sum / n\n",
    "    end\n",
    "    return rv\n",
    "end"
   ]
  },
  {
   "cell_type": "markdown",
   "metadata": {},
   "source": [
    "### Using 4 cores from the built-in ClusterManager"
   ]
  },
  {
   "cell_type": "code",
   "execution_count": 6,
   "metadata": {
    "collapsed": false,
    "scrolled": true
   },
   "outputs": [
    {
     "name": "stdout",
     "output_type": "stream",
     "text": [
      "[==================================================] 100%, completed in 0s\n",
      "[==================================================] 100%, completed in 0s\n",
      "[==================================================] 100%, completed in 0s\n",
      "[==================================================] 100%, completed in 0s\n"
     ]
    },
    {
     "data": {
      "text/plain": [
       "19773-element Array{Float64,1}:\n",
       " 0.695055   \n",
       " 0.943223   \n",
       " 0.999542   \n",
       " 0.999542   \n",
       " 0.938645   \n",
       " 0.999084   \n",
       " 0.000457875\n",
       " 0.988095   \n",
       " 0.969322   \n",
       " 0.989011   \n",
       " 0.990385   \n",
       " 0.947802   \n",
       " 0.998168   \n",
       " ⋮          \n",
       " 0.91163    \n",
       " 0.999084   \n",
       " 0.999542   \n",
       " 0.992216   \n",
       " 0.981685   \n",
       " 0.981685   \n",
       " 0.952839   \n",
       " 0.994048   \n",
       " 0.999542   \n",
       " 0.996795   \n",
       " 0.658425   \n",
       " 0.913462   "
      ]
     },
     "execution_count": 6,
     "metadata": {},
     "output_type": "execute_result"
    }
   ],
   "source": [
    "af = seqParallel(f) do gdsfile\n",
    "    v = seqApply(gdsfile, \"genotype\", asis=:unlist) do geno::Array{UInt8,3}\n",
    "        N = size(geno, 3)\n",
    "        rv = Vector{Float64}(N)\n",
    "        for k in 1:N\n",
    "            sum = 0; n = 0\n",
    "            for g in geno[:,:,k]\n",
    "                if g != 0xFF\n",
    "                    sum += g == 0  # 0 is the reference allele\n",
    "                    n += 1\n",
    "                end\n",
    "            end\n",
    "            rv[k] = sum / n\n",
    "        end\n",
    "        return rv\n",
    "    end\n",
    "    return v\n",
    "end"
   ]
  },
  {
   "cell_type": "markdown",
   "metadata": {},
   "source": [
    "## Principal Component Analysis"
   ]
  },
  {
   "cell_type": "markdown",
   "metadata": {},
   "source": [
    "### Using 1 core"
   ]
  },
  {
   "cell_type": "code",
   "execution_count": 7,
   "metadata": {
    "collapsed": false
   },
   "outputs": [
    {
     "name": "stdout",
     "output_type": "stream",
     "text": [
      "\r",
      "[..................................................]  0%, ETC: ---    \r",
      "[==================================================] 100%, completed in 0s\n"
     ]
    },
    {
     "data": {
      "text/plain": [
       "1092×1092 Array{Float64,2}:\n",
       "  0.7017      0.00830316   0.0511373   …  0.0197863   0.0513473   0.012317  \n",
       "  0.00830316  0.622809     0.033266       0.0271662   0.0278968   0.0235471 \n",
       "  0.0511373   0.033266     0.773402       0.0101346   0.0304234   0.0244011 \n",
       "  0.0330731   0.0481347    0.0231505      0.0238398   0.0237653   0.0206459 \n",
       "  0.0158933   0.0377345    0.0336195      0.00450558  0.0250328   0.022167  \n",
       "  0.043194    0.0221012    0.0484443   …  0.0144089   0.0330417   0.0256502 \n",
       "  0.0466153   0.0219024    0.030456       0.0242625   0.00740767  0.0242048 \n",
       "  0.0108151   0.0258773    0.035232       0.0158535   0.0290021   0.0233435 \n",
       "  0.0331725   0.0301866    0.0309742      0.0184776   0.0142575   0.0302456 \n",
       "  0.0272684   0.00494007   0.00776384     0.0196036   0.0113146   0.0267043 \n",
       "  0.0339346   0.020939     0.0347542   …  0.0162531   0.0106022   0.028762  \n",
       "  0.0248709   0.0224371    0.0384413      0.0232937   0.0151097   0.0117061 \n",
       "  0.0265906   0.0344899    0.0139562      0.017142    0.0255764   0.0154684 \n",
       "  ⋮                                    ⋱              ⋮                     \n",
       "  0.0189681   0.0193366    0.00727019  …  0.014465    0.0263022   0.020402  \n",
       "  0.0190682   0.000678911  0.0322396      0.0236176   0.0233977   0.0201988 \n",
       " -0.00441231  0.0105124    0.0108247      0.0312933   0.0182148   0.00521477\n",
       "  0.0373295   0.0112624    0.0174922      0.0209972   0.0507611   0.0142456 \n",
       "  0.00217496  0.0315914    0.0222844      0.0143468   0.0281275   0.00932025\n",
       "  0.0313247   0.0282472    0.00793672  …  0.0130704   0.0200056   0.0152904 \n",
       "  0.0418121   0.0261307    0.0114143      0.0068133   0.0244468   0.0211374 \n",
       "  0.0249877   0.0205697    0.0247884      0.0248403   0.0171583   0.0355916 \n",
       "  0.0419023   0.0293111    0.0112945      0.0293121   0.0461871   0.0148807 \n",
       "  0.0197863   0.0271662    0.0101346      0.922018    0.0224457   0.0109136 \n",
       "  0.0513473   0.0278968    0.0304234   …  0.0224457   0.631799    0.00977053\n",
       "  0.012317    0.0235471    0.0244011      0.0109136   0.00977053  0.979549  "
      ]
     },
     "execution_count": 7,
     "metadata": {},
     "output_type": "execute_result"
    }
   ],
   "source": [
    "# initialize the covariance matrix\n",
    "ss = Any[0.0]\n",
    "\n",
    "seqApply(f, \"#dosage\", ss) do geno::Matrix{UInt8}, ss::Vector{Any}\n",
    "    # calculate allele frequencies\n",
    "    N = size(geno, 2); af = Vector{Float64}(N)\n",
    "    for i in 1:N\n",
    "        g = geno[:,i]; af[i] = mean(g[g .!= 0xFF])\n",
    "    end\n",
    "    af *= 0.5\n",
    "    # normalized by allele frequencies\n",
    "    g = Matrix{Float64}(size(geno))\n",
    "    for i in 1:N\n",
    "        g[:,i] = (geno[:,i] - 2*af[i]) / sqrt(af[i] * (1 - af[i]))\n",
    "    end\n",
    "    # correct missing genotypes\n",
    "    g[isnan(g)] = 0.0; g[geno .== 0xFF] = 0.0\n",
    "    # update the cov matrix\n",
    "    ss[1] += g * g'\n",
    "end\n",
    "\n",
    "# scaled\n",
    "ss[1] *= size(ss[1], 1) / sum(diag(ss[1]))\n",
    "ss[1]"
   ]
  },
  {
   "cell_type": "markdown",
   "metadata": {},
   "source": [
    "### Using 4 cores from the built-in ClusterManager"
   ]
  },
  {
   "cell_type": "code",
   "execution_count": 8,
   "metadata": {
    "collapsed": false
   },
   "outputs": [
    {
     "name": "stdout",
     "output_type": "stream",
     "text": [
      "\tFrom worker 3:\t\r",
      "[..................................................]  0%, ETC: ---    \r",
      "[==================================================] 100%, completed in 0s\n",
      "\tFrom worker 5:\t\r",
      "[..................................................]  0%, ETC: ---    \r",
      "[==================================================] 100%, completed in 0s\n",
      "\tFrom worker 2:\t\r",
      "[..................................................]  0%, ETC: ---    \r",
      "[==================================================] 100%, completed in 0s\n",
      "\tFrom worker 4:\t\r",
      "[..................................................]  0%, ETC: ---    \r",
      "[==================================================] 100%, completed in 0s\n"
     ]
    },
    {
     "data": {
      "text/plain": [
       "1092×1092 Array{Float64,2}:\n",
       "  0.7017      0.00830316   0.0511373   …  0.0197863   0.0513473   0.012317  \n",
       "  0.00830316  0.622809     0.033266       0.0271662   0.0278968   0.0235471 \n",
       "  0.0511373   0.033266     0.773402       0.0101346   0.0304234   0.0244011 \n",
       "  0.0330731   0.0481347    0.0231505      0.0238398   0.0237653   0.0206459 \n",
       "  0.0158933   0.0377345    0.0336195      0.00450558  0.0250328   0.022167  \n",
       "  0.043194    0.0221012    0.0484443   …  0.0144089   0.0330417   0.0256502 \n",
       "  0.0466153   0.0219024    0.030456       0.0242625   0.00740767  0.0242048 \n",
       "  0.0108151   0.0258773    0.035232       0.0158535   0.0290021   0.0233435 \n",
       "  0.0331725   0.0301866    0.0309742      0.0184776   0.0142575   0.0302456 \n",
       "  0.0272684   0.00494007   0.00776384     0.0196036   0.0113146   0.0267043 \n",
       "  0.0339346   0.020939     0.0347542   …  0.0162531   0.0106022   0.028762  \n",
       "  0.0248709   0.0224371    0.0384413      0.0232937   0.0151097   0.0117061 \n",
       "  0.0265906   0.0344899    0.0139562      0.017142    0.0255764   0.0154684 \n",
       "  ⋮                                    ⋱              ⋮                     \n",
       "  0.0189681   0.0193366    0.00727019  …  0.014465    0.0263022   0.020402  \n",
       "  0.0190682   0.000678911  0.0322396      0.0236176   0.0233977   0.0201988 \n",
       " -0.00441231  0.0105124    0.0108247      0.0312933   0.0182148   0.00521477\n",
       "  0.0373295   0.0112624    0.0174922      0.0209972   0.0507611   0.0142456 \n",
       "  0.00217496  0.0315914    0.0222844      0.0143468   0.0281275   0.00932025\n",
       "  0.0313247   0.0282472    0.00793672  …  0.0130704   0.0200056   0.0152904 \n",
       "  0.0418121   0.0261307    0.0114143      0.0068133   0.0244468   0.0211374 \n",
       "  0.0249877   0.0205697    0.0247884      0.0248403   0.0171583   0.0355916 \n",
       "  0.0419023   0.0293111    0.0112945      0.0293121   0.0461871   0.0148807 \n",
       "  0.0197863   0.0271662    0.0101346      0.922018    0.0224457   0.0109136 \n",
       "  0.0513473   0.0278968    0.0304234   …  0.0224457   0.631799    0.00977053\n",
       "  0.012317    0.0235471    0.0244011      0.0109136   0.00977053  0.979549  "
      ]
     },
     "execution_count": 8,
     "metadata": {},
     "output_type": "execute_result"
    }
   ],
   "source": [
    "# initialize the covariance matrix\n",
    "cov2 = seqParallel(f, combine=+) do gdsfile\n",
    "    ss = Any[0.0]\n",
    "    seqApply(gdsfile, \"#dosage\", ss) do geno::Matrix{UInt8}, ss::Vector{Any}\n",
    "        # calculate allele frequencies\n",
    "        N = size(geno, 2); af = Vector{Float64}(N)\n",
    "        for i in 1:N\n",
    "            g = geno[:,i]; af[i] = mean(g[g .!= 0xFF])\n",
    "        end\n",
    "        af *= 0.5\n",
    "        # normalized by allele frequencies\n",
    "        g = Matrix{Float64}(size(geno))\n",
    "        for i in 1:N\n",
    "            g[:,i] = (geno[:,i] - 2*af[i]) / sqrt(af[i] * (1 - af[i]))\n",
    "        end\n",
    "        # correct missing genotypes\n",
    "        g[isnan(g)] = 0.0; g[geno .== 0xFF] = 0.0\n",
    "        # update the cov matrix\n",
    "        ss[1] += g * transpose(g)\n",
    "    end\n",
    "    return ss[1]\n",
    "end\n",
    "\n",
    "cov2 *= size(cov2, 1) / sum(diag(cov2))\n",
    "cov2"
   ]
  },
  {
   "cell_type": "code",
   "execution_count": 9,
   "metadata": {
    "collapsed": false
   },
   "outputs": [
    {
     "data": {
      "text/plain": [
       "1092-element Array{Float64,1}:\n",
       " 39.6052     \n",
       " 16.5196     \n",
       "  5.18983    \n",
       "  4.78401    \n",
       "  4.59256    \n",
       "  4.48968    \n",
       "  4.07638    \n",
       "  4.00637    \n",
       "  3.89435    \n",
       "  3.6689     \n",
       "  3.55935    \n",
       "  3.37597    \n",
       "  3.2553     \n",
       "  ⋮          \n",
       "  0.240203   \n",
       "  0.236452   \n",
       "  0.23431    \n",
       "  0.231839   \n",
       "  0.218114   \n",
       "  0.215627   \n",
       "  0.198077   \n",
       "  0.18193    \n",
       "  0.129535   \n",
       "  0.0526874  \n",
       "  0.0512418  \n",
       " -3.07798e-14"
      ]
     },
     "execution_count": 9,
     "metadata": {},
     "output_type": "execute_result"
    }
   ],
   "source": [
    "# eigen-decomposition\n",
    "(w, v) = eig(-cov2)\n",
    "\n",
    "-w  # eigenvalues"
   ]
  },
  {
   "cell_type": "code",
   "execution_count": 10,
   "metadata": {
    "collapsed": false
   },
   "outputs": [
    {
     "data": {
      "text/plain": [
       "1092-element Array{Float64,1}:\n",
       " -0.0147124\n",
       " -0.0154688\n",
       " -0.0135991\n",
       " -0.0151747\n",
       " -0.0146118\n",
       " -0.0122881\n",
       " -0.0136388\n",
       " -0.0135484\n",
       " -0.0150387\n",
       " -0.0134909\n",
       " -0.0138333\n",
       " -0.0133675\n",
       " -0.0135584\n",
       "  ⋮        \n",
       " -0.0111869\n",
       " -0.0132867\n",
       " -0.0128998\n",
       " -0.0133382\n",
       " -0.0121674\n",
       " -0.0130977\n",
       " -0.0139683\n",
       " -0.0140026\n",
       " -0.0163832\n",
       " -0.0139423\n",
       " -0.0127312\n",
       " -0.0121628"
      ]
     },
     "execution_count": 10,
     "metadata": {},
     "output_type": "execute_result"
    }
   ],
   "source": [
    "v[:,1]  # the first eigenvector"
   ]
  }
 ],
 "metadata": {
  "kernelspec": {
   "display_name": "Julia 0.5.2",
   "language": "julia",
   "name": "julia-0.5"
  },
  "language_info": {
   "file_extension": ".jl",
   "mimetype": "application/julia",
   "name": "julia",
   "version": "0.5.2"
  }
 },
 "nbformat": 4,
 "nbformat_minor": 2
}
